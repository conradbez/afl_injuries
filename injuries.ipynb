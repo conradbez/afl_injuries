{
 "metadata": {
  "language_info": {
   "codemirror_mode": {
    "name": "ipython",
    "version": 3
   },
   "file_extension": ".py",
   "mimetype": "text/x-python",
   "name": "python",
   "nbconvert_exporter": "python",
   "pygments_lexer": "ipython3",
   "version": "3.8.5-final"
  },
  "orig_nbformat": 2,
  "kernelspec": {
   "name": "python3",
   "display_name": "Python 3",
   "language": "python"
  }
 },
 "nbformat": 4,
 "nbformat_minor": 2,
 "cells": [
  {
   "cell_type": "code",
   "execution_count": 3,
   "metadata": {},
   "outputs": [],
   "source": [
    "# !pip3 install dateparser\n",
    "# !pip3 install lxml "
   ]
  },
  {
   "cell_type": "code",
   "execution_count": 46,
   "metadata": {},
   "outputs": [],
   "source": [
    "import requests\n",
    "import pandas as pd\n",
    "import dateparser\n",
    "from datetime import datetime\n",
    "from datetime import timedelta"
   ]
  },
  {
   "cell_type": "code",
   "execution_count": 5,
   "metadata": {},
   "outputs": [],
   "source": [
    "r = requests.get('https://www.afl.com.au/news/564/afl-injury-list')\n",
    "dfs = pd.read_html(r.text)"
   ]
  },
  {
   "cell_type": "code",
   "execution_count": 6,
   "metadata": {},
   "outputs": [
    {
     "output_type": "stream",
     "name": "stderr",
     "text": [
      "<ipython-input-6-a9f2e973727b>:6: SettingWithCopyWarning: \nA value is trying to be set on a copy of a slice from a DataFrame.\nTry using .loc[row_indexer,col_indexer] = value instead\n\nSee the caveats in the documentation: https://pandas.pydata.org/pandas-docs/stable/user_guide/indexing.html#returning-a-view-versus-a-copy\n  df_part['Updated'] = date\n"
     ]
    },
    {
     "output_type": "execute_result",
     "data": {
      "text/plain": [
       "            PLAYER     INJURY ESTIMATED RETURN            Updated\n",
       "0     Jordon Butts      Ankle             Test  Tuesday, March 16\n",
       "1     Brayden Cook   Shoulder          5 weeks  Tuesday, March 16\n",
       "2      Matt Crouch      Groin             Test  Tuesday, March 16\n",
       "3        Ben Davis      Ankle          2 weeks  Tuesday, March 16\n",
       "4       Tom Doedee      Groin             Test  Tuesday, March 16\n",
       "..             ...        ...              ...                ...\n",
       "0   Hayden Crozier   Shoulder        6-8 weeks  Tuesday, March 16\n",
       "1     Riley Garcia       Knee              TBC  Tuesday, March 16\n",
       "2     Mitch Hannan      Groin              TBC  Tuesday, March 16\n",
       "3      Toby McLean       Knee       4-5 months  Tuesday, March 16\n",
       "4      Easton Wood  Hamstring             Test  Tuesday, March 16\n",
       "\n",
       "[134 rows x 4 columns]"
      ],
      "text/html": "<div>\n<style scoped>\n    .dataframe tbody tr th:only-of-type {\n        vertical-align: middle;\n    }\n\n    .dataframe tbody tr th {\n        vertical-align: top;\n    }\n\n    .dataframe thead th {\n        text-align: right;\n    }\n</style>\n<table border=\"1\" class=\"dataframe\">\n  <thead>\n    <tr style=\"text-align: right;\">\n      <th></th>\n      <th>PLAYER</th>\n      <th>INJURY</th>\n      <th>ESTIMATED RETURN</th>\n      <th>Updated</th>\n    </tr>\n  </thead>\n  <tbody>\n    <tr>\n      <th>0</th>\n      <td>Jordon Butts</td>\n      <td>Ankle</td>\n      <td>Test</td>\n      <td>Tuesday, March 16</td>\n    </tr>\n    <tr>\n      <th>1</th>\n      <td>Brayden Cook</td>\n      <td>Shoulder</td>\n      <td>5 weeks</td>\n      <td>Tuesday, March 16</td>\n    </tr>\n    <tr>\n      <th>2</th>\n      <td>Matt Crouch</td>\n      <td>Groin</td>\n      <td>Test</td>\n      <td>Tuesday, March 16</td>\n    </tr>\n    <tr>\n      <th>3</th>\n      <td>Ben Davis</td>\n      <td>Ankle</td>\n      <td>2 weeks</td>\n      <td>Tuesday, March 16</td>\n    </tr>\n    <tr>\n      <th>4</th>\n      <td>Tom Doedee</td>\n      <td>Groin</td>\n      <td>Test</td>\n      <td>Tuesday, March 16</td>\n    </tr>\n    <tr>\n      <th>...</th>\n      <td>...</td>\n      <td>...</td>\n      <td>...</td>\n      <td>...</td>\n    </tr>\n    <tr>\n      <th>0</th>\n      <td>Hayden Crozier</td>\n      <td>Shoulder</td>\n      <td>6-8 weeks</td>\n      <td>Tuesday, March 16</td>\n    </tr>\n    <tr>\n      <th>1</th>\n      <td>Riley Garcia</td>\n      <td>Knee</td>\n      <td>TBC</td>\n      <td>Tuesday, March 16</td>\n    </tr>\n    <tr>\n      <th>2</th>\n      <td>Mitch Hannan</td>\n      <td>Groin</td>\n      <td>TBC</td>\n      <td>Tuesday, March 16</td>\n    </tr>\n    <tr>\n      <th>3</th>\n      <td>Toby McLean</td>\n      <td>Knee</td>\n      <td>4-5 months</td>\n      <td>Tuesday, March 16</td>\n    </tr>\n    <tr>\n      <th>4</th>\n      <td>Easton Wood</td>\n      <td>Hamstring</td>\n      <td>Test</td>\n      <td>Tuesday, March 16</td>\n    </tr>\n  </tbody>\n</table>\n<p>134 rows × 4 columns</p>\n</div>"
     },
     "metadata": {},
     "execution_count": 6
    }
   ],
   "source": [
    "df = pd.DataFrame()\n",
    "for df_part in dfs:\n",
    "    updated_text = df_part.iloc[-1,0]\n",
    "    df_part = df_part.iloc[:-1]\n",
    "    date = updated_text[updated_text.find(':')+2:]\n",
    "    df_part['Updated'] = date\n",
    "    df = df.append(df_part)\n",
    "df"
   ]
  },
  {
   "cell_type": "code",
   "execution_count": 7,
   "metadata": {},
   "outputs": [],
   "source": [
    "df['DATE_BACK'] = df.apply(\n",
    "    lambda x: \n",
    "    dateparser.parse(\n",
    "        x['ESTIMATED RETURN'], \n",
    "        settings={\n",
    "            'PREFER_DATES_FROM': 'future', \n",
    "            'PARSERS':['relative-time'], \n",
    "            'RELATIVE_BASE': dateparser.parse(x['Updated'])}, ), axis=1)"
   ]
  },
  {
   "cell_type": "code",
   "execution_count": 40,
   "metadata": {},
   "outputs": [
    {
     "output_type": "execute_result",
     "data": {
      "text/plain": [
       "array(['Test', '5 weeks', '2 weeks', '2-3 weeks', 'TBC', '2-5 weeks',\n",
       "       'Season', 'Indefinite', '2-4 weeks', '6-8 weeks', '1 week',\n",
       "       '4-5 weeks', '1-3 weeks', 'Round two', '4-8 weeks', '1-2 weeks',\n",
       "       '3-4 weeks', '7 weeks', '5-6 months', 'TBA', '4 weeks', '3 weeks',\n",
       "       '7-8 weeks', '12-16 weeks', '8-10 weeks', '4-6 weeks',\n",
       "       'Round five', '4-5 months', '3-6 weeks', 'Round three',\n",
       "       '6-10 weeks', '5-7 weeks', 'Round 23'], dtype=object)"
      ]
     },
     "metadata": {},
     "execution_count": 40
    }
   ],
   "source": [
    "df['ESTIMATED RETURN'].unique()"
   ]
  },
  {
   "cell_type": "code",
   "execution_count": 50,
   "metadata": {},
   "outputs": [
    {
     "output_type": "execute_result",
     "data": {
      "text/plain": [
       "0     2021-04-19\n",
       "2     2021-04-19\n",
       "4     2021-04-19\n",
       "5     2021-04-19\n",
       "0     2021-04-19\n",
       "1     2021-04-19\n",
       "2     2021-04-19\n",
       "3     2021-04-19\n",
       "1     2021-04-19\n",
       "6     2021-04-19\n",
       "8     2021-04-19\n",
       "0     2021-04-19\n",
       "3     2021-04-19\n",
       "0     2021-04-19\n",
       "1     2021-04-19\n",
       "2     2021-04-19\n",
       "4     2021-04-19\n",
       "6     2021-04-19\n",
       "7     2021-04-19\n",
       "8     2021-04-19\n",
       "13    2021-04-19\n",
       "3     2021-04-19\n",
       "2     2021-04-19\n",
       "0     2021-04-19\n",
       "2     2021-04-19\n",
       "1     2021-04-19\n",
       "3     2021-04-19\n",
       "4     2021-04-19\n",
       "5     2021-04-19\n",
       "7     2021-04-19\n",
       "0     2021-04-19\n",
       "2     2021-04-19\n",
       "4     2021-04-19\n",
       "5     2021-04-19\n",
       "6     2021-04-19\n",
       "0     2021-04-19\n",
       "3     2021-04-19\n",
       "6     2021-04-19\n",
       "7     2021-04-19\n",
       "1     2021-04-19\n",
       "3     2021-04-19\n",
       "1     2021-04-19\n",
       "2     2021-04-19\n",
       "0     2021-04-19\n",
       "1     2021-04-19\n",
       "3     2021-04-19\n",
       "9     2021-04-19\n",
       "1     2021-04-19\n",
       "2     2021-04-19\n",
       "4     2021-04-19\n",
       "Name: DATE_BACK, dtype: object"
      ]
     },
     "metadata": {},
     "execution_count": 50
    }
   ],
   "source": [
    "df.loc[df['ESTIMATED RETURN'].isin([ 'Season', 'Indefinite']), 'DATE_BACK'] = datetime.strptime('01/01/24', '%d/%m/%y')\n",
    "df.loc[df['ESTIMATED RETURN'].isin([ 'Season', 'Indefinite'])].loc[:, 'DATE_BACK']\n",
    "\n",
    "df.loc[df['ESTIMATED RETURN'].isin([ 'Test', 'TBC', 'TBA']), 'DATE_BACK'] = datetime.now().date()+timedelta(days=28)\n",
    "df.loc[df['ESTIMATED RETURN'].isin([ 'Test', 'TBC', 'TBA'])].loc[:, 'DATE_BACK']\n",
    "\n"
   ]
  },
  {
   "cell_type": "code",
   "execution_count": null,
   "metadata": {},
   "outputs": [],
   "source": [
    "df.to_csv('injuries.csv')"
   ]
  }
 ]
}