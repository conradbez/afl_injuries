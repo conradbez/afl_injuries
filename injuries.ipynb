{
 "metadata": {
  "language_info": {
   "codemirror_mode": {
    "name": "ipython",
    "version": 3
   },
   "file_extension": ".py",
   "mimetype": "text/x-python",
   "name": "python",
   "nbconvert_exporter": "python",
   "pygments_lexer": "ipython3",
   "version": "3.8.5-final"
  },
  "orig_nbformat": 2,
  "kernelspec": {
   "name": "python3",
   "display_name": "Python 3",
   "language": "python"
  }
 },
 "nbformat": 4,
 "nbformat_minor": 2,
 "cells": [
  {
   "cell_type": "code",
   "execution_count": 149,
   "metadata": {},
   "outputs": [],
   "source": [
    "# !pip3 install dateparser\n",
    "# !pip3 install lxml "
   ]
  },
  {
   "cell_type": "code",
   "execution_count": 150,
   "metadata": {},
   "outputs": [],
   "source": [
    "import requests\n",
    "import pandas as pd\n",
    "import dateparser"
   ]
  },
  {
   "cell_type": "code",
   "execution_count": 151,
   "metadata": {},
   "outputs": [],
   "source": [
    "r = requests.get('https://www.afl.com.au/news/564/afl-injury-list')\n",
    "dfs = pd.read_html(r.text)"
   ]
  },
  {
   "cell_type": "code",
   "execution_count": 152,
   "metadata": {},
   "outputs": [
    {
     "output_type": "stream",
     "name": "stderr",
     "text": [
      "<ipython-input-152-a9f2e973727b>:6: SettingWithCopyWarning: \nA value is trying to be set on a copy of a slice from a DataFrame.\nTry using .loc[row_indexer,col_indexer] = value instead\n\nSee the caveats in the documentation: https://pandas.pydata.org/pandas-docs/stable/user_guide/indexing.html#returning-a-view-versus-a-copy\n  df_part['Updated'] = date\n"
     ]
    },
    {
     "output_type": "execute_result",
     "data": {
      "text/plain": [
       "            PLAYER     INJURY ESTIMATED RETURN            Updated\n",
       "0     Jordon Butts      Ankle             Test  Tuesday, March 16\n",
       "1     Brayden Cook   Shoulder          5 weeks  Tuesday, March 16\n",
       "2      Matt Crouch      Groin             Test  Tuesday, March 16\n",
       "3        Ben Davis      Ankle          2 weeks  Tuesday, March 16\n",
       "4       Tom Doedee      Groin             Test  Tuesday, March 16\n",
       "..             ...        ...              ...                ...\n",
       "0   Hayden Crozier   Shoulder        6-8 weeks  Tuesday, March 16\n",
       "1     Riley Garcia       Knee              TBC  Tuesday, March 16\n",
       "2     Mitch Hannan      Groin              TBC  Tuesday, March 16\n",
       "3      Toby McLean       Knee       4-5 months  Tuesday, March 16\n",
       "4      Easton Wood  Hamstring             Test  Tuesday, March 16\n",
       "\n",
       "[134 rows x 4 columns]"
      ],
      "text/html": "<div>\n<style scoped>\n    .dataframe tbody tr th:only-of-type {\n        vertical-align: middle;\n    }\n\n    .dataframe tbody tr th {\n        vertical-align: top;\n    }\n\n    .dataframe thead th {\n        text-align: right;\n    }\n</style>\n<table border=\"1\" class=\"dataframe\">\n  <thead>\n    <tr style=\"text-align: right;\">\n      <th></th>\n      <th>PLAYER</th>\n      <th>INJURY</th>\n      <th>ESTIMATED RETURN</th>\n      <th>Updated</th>\n    </tr>\n  </thead>\n  <tbody>\n    <tr>\n      <th>0</th>\n      <td>Jordon Butts</td>\n      <td>Ankle</td>\n      <td>Test</td>\n      <td>Tuesday, March 16</td>\n    </tr>\n    <tr>\n      <th>1</th>\n      <td>Brayden Cook</td>\n      <td>Shoulder</td>\n      <td>5 weeks</td>\n      <td>Tuesday, March 16</td>\n    </tr>\n    <tr>\n      <th>2</th>\n      <td>Matt Crouch</td>\n      <td>Groin</td>\n      <td>Test</td>\n      <td>Tuesday, March 16</td>\n    </tr>\n    <tr>\n      <th>3</th>\n      <td>Ben Davis</td>\n      <td>Ankle</td>\n      <td>2 weeks</td>\n      <td>Tuesday, March 16</td>\n    </tr>\n    <tr>\n      <th>4</th>\n      <td>Tom Doedee</td>\n      <td>Groin</td>\n      <td>Test</td>\n      <td>Tuesday, March 16</td>\n    </tr>\n    <tr>\n      <th>...</th>\n      <td>...</td>\n      <td>...</td>\n      <td>...</td>\n      <td>...</td>\n    </tr>\n    <tr>\n      <th>0</th>\n      <td>Hayden Crozier</td>\n      <td>Shoulder</td>\n      <td>6-8 weeks</td>\n      <td>Tuesday, March 16</td>\n    </tr>\n    <tr>\n      <th>1</th>\n      <td>Riley Garcia</td>\n      <td>Knee</td>\n      <td>TBC</td>\n      <td>Tuesday, March 16</td>\n    </tr>\n    <tr>\n      <th>2</th>\n      <td>Mitch Hannan</td>\n      <td>Groin</td>\n      <td>TBC</td>\n      <td>Tuesday, March 16</td>\n    </tr>\n    <tr>\n      <th>3</th>\n      <td>Toby McLean</td>\n      <td>Knee</td>\n      <td>4-5 months</td>\n      <td>Tuesday, March 16</td>\n    </tr>\n    <tr>\n      <th>4</th>\n      <td>Easton Wood</td>\n      <td>Hamstring</td>\n      <td>Test</td>\n      <td>Tuesday, March 16</td>\n    </tr>\n  </tbody>\n</table>\n<p>134 rows × 4 columns</p>\n</div>"
     },
     "metadata": {},
     "execution_count": 152
    }
   ],
   "source": [
    "df = pd.DataFrame()\n",
    "for df_part in dfs:\n",
    "    updated_text = df_part.iloc[-1,0]\n",
    "    df_part = df_part.iloc[:-1]\n",
    "    date = updated_text[updated_text.find(':')+2:]\n",
    "    df_part['Updated'] = date\n",
    "    df = df.append(df_part)\n",
    "df"
   ]
  },
  {
   "cell_type": "code",
   "execution_count": 154,
   "metadata": {},
   "outputs": [],
   "source": [
    "df['DATE_BACK'] = df.apply(\n",
    "    lambda x: \n",
    "    dateparser.parse(\n",
    "        x['ESTIMATED RETURN'], \n",
    "        settings={\n",
    "            'PREFER_DATES_FROM': 'future', \n",
    "            'PARSERS':['relative-time'], \n",
    "            'RELATIVE_BASE': dateparser.parse(x['Updated'])}, ), axis=1)"
   ]
  },
  {
   "cell_type": "code",
   "execution_count": 155,
   "metadata": {},
   "outputs": [
    {
     "output_type": "execute_result",
     "data": {
      "text/plain": [
       "            PLAYER     INJURY ESTIMATED RETURN            Updated  DATE_BACK\n",
       "0     Jordon Butts      Ankle             Test  Tuesday, March 16        NaT\n",
       "1     Brayden Cook   Shoulder          5 weeks  Tuesday, March 16 2021-04-20\n",
       "2      Matt Crouch      Groin             Test  Tuesday, March 16        NaT\n",
       "3        Ben Davis      Ankle          2 weeks  Tuesday, March 16 2021-03-30\n",
       "4       Tom Doedee      Groin             Test  Tuesday, March 16        NaT\n",
       "..             ...        ...              ...                ...        ...\n",
       "0   Hayden Crozier   Shoulder        6-8 weeks  Tuesday, March 16 2021-05-11\n",
       "1     Riley Garcia       Knee              TBC  Tuesday, March 16        NaT\n",
       "2     Mitch Hannan      Groin              TBC  Tuesday, March 16        NaT\n",
       "3      Toby McLean       Knee       4-5 months  Tuesday, March 16 2021-08-16\n",
       "4      Easton Wood  Hamstring             Test  Tuesday, March 16        NaT\n",
       "\n",
       "[134 rows x 5 columns]"
      ],
      "text/html": "<div>\n<style scoped>\n    .dataframe tbody tr th:only-of-type {\n        vertical-align: middle;\n    }\n\n    .dataframe tbody tr th {\n        vertical-align: top;\n    }\n\n    .dataframe thead th {\n        text-align: right;\n    }\n</style>\n<table border=\"1\" class=\"dataframe\">\n  <thead>\n    <tr style=\"text-align: right;\">\n      <th></th>\n      <th>PLAYER</th>\n      <th>INJURY</th>\n      <th>ESTIMATED RETURN</th>\n      <th>Updated</th>\n      <th>DATE_BACK</th>\n    </tr>\n  </thead>\n  <tbody>\n    <tr>\n      <th>0</th>\n      <td>Jordon Butts</td>\n      <td>Ankle</td>\n      <td>Test</td>\n      <td>Tuesday, March 16</td>\n      <td>NaT</td>\n    </tr>\n    <tr>\n      <th>1</th>\n      <td>Brayden Cook</td>\n      <td>Shoulder</td>\n      <td>5 weeks</td>\n      <td>Tuesday, March 16</td>\n      <td>2021-04-20</td>\n    </tr>\n    <tr>\n      <th>2</th>\n      <td>Matt Crouch</td>\n      <td>Groin</td>\n      <td>Test</td>\n      <td>Tuesday, March 16</td>\n      <td>NaT</td>\n    </tr>\n    <tr>\n      <th>3</th>\n      <td>Ben Davis</td>\n      <td>Ankle</td>\n      <td>2 weeks</td>\n      <td>Tuesday, March 16</td>\n      <td>2021-03-30</td>\n    </tr>\n    <tr>\n      <th>4</th>\n      <td>Tom Doedee</td>\n      <td>Groin</td>\n      <td>Test</td>\n      <td>Tuesday, March 16</td>\n      <td>NaT</td>\n    </tr>\n    <tr>\n      <th>...</th>\n      <td>...</td>\n      <td>...</td>\n      <td>...</td>\n      <td>...</td>\n      <td>...</td>\n    </tr>\n    <tr>\n      <th>0</th>\n      <td>Hayden Crozier</td>\n      <td>Shoulder</td>\n      <td>6-8 weeks</td>\n      <td>Tuesday, March 16</td>\n      <td>2021-05-11</td>\n    </tr>\n    <tr>\n      <th>1</th>\n      <td>Riley Garcia</td>\n      <td>Knee</td>\n      <td>TBC</td>\n      <td>Tuesday, March 16</td>\n      <td>NaT</td>\n    </tr>\n    <tr>\n      <th>2</th>\n      <td>Mitch Hannan</td>\n      <td>Groin</td>\n      <td>TBC</td>\n      <td>Tuesday, March 16</td>\n      <td>NaT</td>\n    </tr>\n    <tr>\n      <th>3</th>\n      <td>Toby McLean</td>\n      <td>Knee</td>\n      <td>4-5 months</td>\n      <td>Tuesday, March 16</td>\n      <td>2021-08-16</td>\n    </tr>\n    <tr>\n      <th>4</th>\n      <td>Easton Wood</td>\n      <td>Hamstring</td>\n      <td>Test</td>\n      <td>Tuesday, March 16</td>\n      <td>NaT</td>\n    </tr>\n  </tbody>\n</table>\n<p>134 rows × 5 columns</p>\n</div>"
     },
     "metadata": {},
     "execution_count": 155
    }
   ],
   "source": [
    "df"
   ]
  },
  {
   "cell_type": "code",
   "execution_count": null,
   "metadata": {},
   "outputs": [],
   "source": [
    "df.to_csv('injuries.csv')"
   ]
  }
 ]
}